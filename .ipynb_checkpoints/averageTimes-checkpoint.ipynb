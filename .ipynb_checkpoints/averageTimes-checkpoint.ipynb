{
 "cells": [
  {
   "cell_type": "code",
   "execution_count": 340,
   "metadata": {
    "scrolled": true
   },
   "outputs": [],
   "source": [
    "#Python file for app extension of the app to give average times per interval\n",
    "import datetime\n",
    "import tkinter as tk\n",
    "from tkinter import messagebox, filedialog, ttk\n",
    "import pandas as pd\n",
    "mins2secs = 0\n",
    "avlist = []\n"
   ]
  },
  {
   "cell_type": "code",
   "execution_count": null,
   "metadata": {},
   "outputs": [],
   "source": []
  },
  {
   "cell_type": "code",
   "execution_count": 341,
   "metadata": {},
   "outputs": [
    {
     "data": {
      "text/plain": [
       "''"
      ]
     },
     "execution_count": 341,
     "metadata": {},
     "output_type": "execute_result"
    }
   ],
   "source": [
    "root = tk.Tk() #widget with a title bar - intialised\n",
    "root.geometry(\"550x500\") #root starting geometry, 500 by 500 pixels\n",
    "root.pack_propagate(False) #don't repack yourself based on the things that are placed in there\n",
    "root.resizable(0,0) #don't resize"
   ]
  },
  {
   "cell_type": "code",
   "execution_count": 342,
   "metadata": {},
   "outputs": [],
   "source": [
    "frame1 = tk.LabelFrame(root, text = \"Interval Data\", font=('helvetica', 10, 'bold'))\n",
    "frame1.place(height=250, width=550)\n",
    "\n",
    "time_frame = tk.LabelFrame(root, text=\"Enter Times\", font=('helvetica', 10, 'bold'))\n",
    "time_frame.place(height=100, width = 550, rely=0.6,relx=0)\n",
    "button1 = tk.Button(time_frame, text=\"Upload you times\", command = testret, bg='brown', fg='white', font=('helvetica', 9, 'bold'))\n",
    "entry1 = tk.Entry(time_frame) \n",
    "label1 = tk.Label(time_frame, text= \"Enter your interval times, seperated with a comma and a space e.g. 3.45, 3.45, 3.50\", font=('helvetica', 9, 'bold'))\n",
    "label1.place(rely=0.1, relx=0.05)\n",
    "entry1.place(rely=0.3, relx=0.4)\n",
    "button1.place(rely=0.6, relx=0.4)\n",
    "results_frame = tk.LabelFrame(root, text = \"Average Pace\", font=('helvetica', 10, 'bold'))\n",
    "results_frame.place(height=100, width = 550, rely=0.8,relx=0)\n",
    "\n",
    "#tree view widget - how to visualise dataframe\n",
    "tv1 = ttk.Treeview(frame1)\n",
    "tv1.place(relheight = 1, relwidth = 1) #place inside frame_1 as the conatiner and fill the whole conatiner\n",
    "\n",
    "#now add a scroll bar\n",
    "treescrolly = tk.Scrollbar(frame1, orient=\"vertical\", command=tv1.yview)\n",
    "treescrollx = tk.Scrollbar(frame1, orient=\"horizontal\", command=tv1.xview)\n",
    "tv1.configure(xscrollcommand =treescrollx.set, yscrollcommand = treescrolly.set)\n",
    "treescrollx.pack(side=\"bottom\", fill=\"x\")\n",
    "treescrolly.pack(side =\"right\", fill=\"y\")"
   ]
  },
  {
   "cell_type": "code",
   "execution_count": 343,
   "metadata": {},
   "outputs": [],
   "source": [
    "def testret():\n",
    "    resultString = entry1.get()\n",
    "    #print(resultString)\n",
    "    averageFunc(resultString)\n",
    "    \n",
    "# the function that gets the average of the times - \n",
    "def averageFunc(inputString):\n",
    "    global times\n",
    "    times = inputString.split(\", \")\n",
    "    #convert time values from a string to a float\n",
    "    for x in (range(len(times))):\n",
    "        templist = times[x].split(\".\")\n",
    "        templist[0] = (int(templist[0])*60)\n",
    "        tempres = templist[0]+int(templist[1])\n",
    "        avlist.append(tempres)\n",
    "    #get average times    \n",
    "    avg = sum(avlist)/len(avlist)\n",
    "    avg = datetime.timedelta(seconds=avg)\n",
    "    print(avg)\n",
    "    label1 = tk.Label(results_frame, text= avg, font=('helvetica', 9, 'bold'))\n",
    "    label1.place(rely=0.4, relx=0.4)\n",
    "    displayLaps(times)\n",
    "\n",
    "def displayLaps(intervaltimes):\n",
    "    df = pd.DataFrame(data=intervaltimes)\n",
    "    df.index +=1\n",
    "    df['Lap Number'] = df.index\n",
    "    df=df.rename(columns = {0:'Lap Time'})\n",
    "    col_name = \"Lap Number\"\n",
    "    first_col = df.pop(\"Lap Number\")\n",
    "    df.insert(0, col_name, first_col)\n",
    "    print(df)\n",
    "    clear_data()\n",
    "    tv1[\"column\"] = list(df.columns)\n",
    "    tv1[\"show\"] = \"headings\"\n",
    "    for column in tv1[\"columns\"]:\n",
    "        tv1.heading(column, text=column)\n",
    "        \n",
    "    df_rows = df.to_numpy().tolist()\n",
    "    for row in df_rows:\n",
    "        tv1.insert(\"\",\"end\", values=row)\n",
    "    return df\n",
    "     \n",
    "        \n",
    "\n",
    "def clear_data():\n",
    "    tv1.delete(*tv1.get_children())"
   ]
  },
  {
   "cell_type": "code",
   "execution_count": 344,
   "metadata": {},
   "outputs": [
    {
     "name": "stdout",
     "output_type": "stream",
     "text": [
      "0:03:48.333333\n",
      "   Lap Number Lap Time\n",
      "1           1     3.45\n",
      "2           2     3.45\n",
      "3           3     3.55\n"
     ]
    }
   ],
   "source": [
    "root.mainloop() # main loop starts the GUI - won't appear till this is called"
   ]
  },
  {
   "cell_type": "code",
   "execution_count": null,
   "metadata": {},
   "outputs": [],
   "source": []
  },
  {
   "cell_type": "markdown",
   "metadata": {},
   "source": [
    "times = \"3.45, 3.45, 3.55\"\n",
    "times = times.split(\", \")\n",
    "print(times)\n",
    "df = pd.DataFrame(data=times)\n",
    "df.index +=1\n",
    "df['Lap Number'] = df.index\n",
    "df=df.rename(columns = {0:'Lap Time'})\n",
    "col_name = \"Lap Number\"\n",
    "first_col = df.pop(\"Lap Number\")\n",
    "df.insert(0, col_name, first_col)\n",
    "print(df)"
   ]
  },
  {
   "cell_type": "code",
   "execution_count": null,
   "metadata": {},
   "outputs": [],
   "source": []
  }
 ],
 "metadata": {
  "kernelspec": {
   "display_name": "Python 3",
   "language": "python",
   "name": "python3"
  },
  "language_info": {
   "codemirror_mode": {
    "name": "ipython",
    "version": 3
   },
   "file_extension": ".py",
   "mimetype": "text/x-python",
   "name": "python",
   "nbconvert_exporter": "python",
   "pygments_lexer": "ipython3",
   "version": "3.7.4"
  }
 },
 "nbformat": 4,
 "nbformat_minor": 2
}
